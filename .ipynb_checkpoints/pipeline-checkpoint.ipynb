{
 "cells": [
  {
   "cell_type": "code",
   "execution_count": 1,
   "metadata": {},
   "outputs": [],
   "source": [
    "import warnings \n",
    "warnings.filterwarnings(\"ignore\")\n",
    "\n",
    "import sys\n",
    "sys.dont_write_bytecode = True"
   ]
  },
  {
   "cell_type": "code",
   "execution_count": 2,
   "metadata": {},
   "outputs": [],
   "source": [
    "import pandas as pd\n",
    "import numpy as np\n",
    "import json\n",
    "\n",
    "from algorithms.clustering import hierarchical, kmeans , dbscan\n",
    "from algorithms.associate_rule_mining import apriori, fpgrowth\n",
    "from algorithms.forecasting import forecasting\n",
    "\n",
    "import utils.clustering as clustering_utils\n",
    "import utils.forecasting as forecasting_utils\n",
    "import utils.comparison as comparison_utils"
   ]
  },
  {
   "cell_type": "code",
   "execution_count": 3,
   "metadata": {},
   "outputs": [],
   "source": [
    "ecommerce_df = pd.read_csv(\"./data/e-commerce-data.csv\", encoding= 'unicode_escape')"
   ]
  },
  {
   "cell_type": "code",
   "execution_count": 4,
   "metadata": {},
   "outputs": [
    {
     "name": "stdout",
     "output_type": "stream",
     "text": [
      "Total number of outliers is: 434\n"
     ]
    }
   ],
   "source": [
    "clustering_df = clustering_utils.preprocess(ecommerce_df)\n",
    "clustering_data   = clustering_utils.get_data(clustering_df)\n",
    "\n",
    "kmeans_model = kmeans.KMeans(n_clusters = 4)\n",
    "kmeans_labels = kmeans_model.get_labels(clustering_data)\n",
    "\n",
    "dbscan_model = dbscan.DBSCAN(eps=0.15, min_samples=15)\n",
    "dbscan_labels = dbscan_model.get_labels(clustering_data)\n",
    "\n",
    "hierarchical_model = hierarchical.HierarchicalClustering(n_clusters= 4)\n",
    "hierarchical_labels = hierarchical_model.get_labels(clustering_data)"
   ]
  },
  {
   "cell_type": "code",
   "execution_count": 5,
   "metadata": {},
   "outputs": [
    {
     "name": "stdout",
     "output_type": "stream",
     "text": [
      "3904 4\n",
      "3904 4\n",
      "3904 4\n"
     ]
    }
   ],
   "source": [
    "print(len(kmeans_labels), len(set(kmeans_labels)))\n",
    "print(len(dbscan_labels), len(set(dbscan_labels)))\n",
    "print(len(hierarchical_labels), len(set(hierarchical_labels)))"
   ]
  },
  {
   "cell_type": "code",
   "execution_count": 6,
   "metadata": {},
   "outputs": [],
   "source": [
    "customer_clusters_kmeans, customer_clusters_dbscan, customer_clusters_hierarchical = clustering_df, clustering_df, clustering_df\n",
    "customer_clusters_kmeans['Cluster'] = kmeans_labels\n",
    "customer_clusters_dbscan['Cluster'] = dbscan_labels\n",
    "customer_clusters_hierarchical['Cluster'] = hierarchical_labels"
   ]
  },
  {
   "cell_type": "code",
   "execution_count": 7,
   "metadata": {},
   "outputs": [
    {
     "name": "stdout",
     "output_type": "stream",
     "text": [
      "best cluster by kmeans\n"
     ]
    }
   ],
   "source": [
    "customer_clusters = comparison_utils.get_best_clusters(ecommerce_df, customer_clusters_kmeans, customer_clusters_dbscan, customer_clusters_hierarchical)"
   ]
  },
  {
   "cell_type": "code",
   "execution_count": 8,
   "metadata": {},
   "outputs": [
    {
     "ename": "AttributeError",
     "evalue": "module 'algorithms.associate_rule_mining.fpgrowth' has no attribute 'Fpgrowth'",
     "output_type": "error",
     "traceback": [
      "\u001b[31m---------------------------------------------------------------------------\u001b[39m",
      "\u001b[31mAttributeError\u001b[39m                            Traceback (most recent call last)",
      "\u001b[36mCell\u001b[39m\u001b[36m \u001b[39m\u001b[32mIn[8]\u001b[39m\u001b[32m, line 4\u001b[39m\n\u001b[32m      1\u001b[39m apriori_model = apriori.Apriori()\n\u001b[32m      2\u001b[39m associate_rules_apriori = apriori_model.get_associate_rules(ecommerce_df, customer_clusters)\n\u001b[32m----> \u001b[39m\u001b[32m4\u001b[39m fp_growth_model =\u001b[43mfpgrowth\u001b[49m\u001b[43m.\u001b[49m\u001b[43mFpgrowth\u001b[49m()\n\u001b[32m      5\u001b[39m associate_rules_fp_growth = fp_growth_model.get_associate_rules(ecommerce_df, customer_clusters)\n\u001b[32m      7\u001b[39m associate_rules = comparison_utils.get_best_associate_rules(associate_rules_apriori, associate_rules_fp_growth)\n",
      "\u001b[31mAttributeError\u001b[39m: module 'algorithms.associate_rule_mining.fpgrowth' has no attribute 'Fpgrowth'"
     ]
    }
   ],
   "source": [
    "# Create Apriori model and get rules\n",
    "apriori_model = apriori.Apriori()\n",
    "associate_rules_apriori = apriori_model.get_associate_rules(ecommerce_df, customer_clusters)\n",
    "\n",
    "# Create FP-Growth model and get rules\n",
    "fp_growth_model = fpgrowth.FPGrowth()   # <-- exact class name\n",
    "associate_rules_fp_growth = fp_growth_model.get_associate_rules(ecommerce_df, customer_clusters)\n",
    "\n",
    "# Compare both and get the best rules\n",
    "associate_rules = comparison_utils.get_best_associate_rules(\n",
    "    associate_rules_apriori,\n",
    "    associate_rules_fp_growth\n",
    ")\n"
   ]
  },
  {
   "cell_type": "code",
   "execution_count": null,
   "metadata": {},
   "outputs": [],
   "source": [
    "associate_rules.to_csv(\"associate_rules.csv\", index=False)"
   ]
  },
  {
   "cell_type": "code",
   "execution_count": null,
   "metadata": {},
   "outputs": [],
   "source": [
    "prediction_df = forecasting_utils.prediction_preprocess(ecommerce_df)\n",
    "predictions_model = forecasting.Predictions()\n",
    "predictions_model.get_associate_ruls(prediction_df)\n",
    "prediction_df = predictions_model.get_predictions(ecommerce_df, prediction_df)"
   ]
  },
  {
   "cell_type": "code",
   "execution_count": null,
   "metadata": {},
   "outputs": [],
   "source": [
    "prediction_df.to_csv(\"prediction.csv\",index=False)"
   ]
  },
  {
   "cell_type": "code",
   "execution_count": null,
   "metadata": {},
   "outputs": [],
   "source": [
    "prediction_df = pd.read_csv(\"data/prediction.csv\")\n",
    "prediction_df['Customer basket'] = prediction_df['Customer basket'].apply(lambda x: eval(x))"
   ]
  },
  {
   "cell_type": "code",
   "execution_count": null,
   "metadata": {},
   "outputs": [],
   "source": [
    "price_add_by_date = forecasting_utils.get_price_add_by_date(ecommerce_df, prediction_df)"
   ]
  },
  {
   "cell_type": "code",
   "execution_count": null,
   "metadata": {},
   "outputs": [],
   "source": [
    "with open(\"price_add_by_date.json\", \"w\") as outfile:\n",
    "    json.dump(price_add_by_date, outfile)"
   ]
  },
  {
   "cell_type": "code",
   "execution_count": null,
   "metadata": {},
   "outputs": [],
   "source": [
    "with open('data/price_add_by_date.json') as json_file:\n",
    "    price_add_by_date = json.load(json_file)"
   ]
  },
  {
   "cell_type": "code",
   "execution_count": null,
   "metadata": {},
   "outputs": [],
   "source": [
    "sales_by_date = forecasting_utils.time_series_preprocess(ecommerce_df, price_add_by_date)\n",
    "print(sales_by_date.head())\n",
    "forecasting_utils.visualize(sales_by_date)"
   ]
  },
  {
   "cell_type": "code",
   "execution_count": null,
   "metadata": {},
   "outputs": [],
   "source": [
    "predictions_model = forecasting.Predictions()\n",
    "predictions_model.get_sales_by_date(sales_by_date, p = 10, d = 1, q = 10, num_predictions = 50)"
   ]
  }
 ],
 "metadata": {
  "kernelspec": {
   "display_name": "Python 3 (ipykernel)",
   "language": "python",
   "name": "python3"
  },
  "language_info": {
   "codemirror_mode": {
    "name": "ipython",
    "version": 3
   },
   "file_extension": ".py",
   "mimetype": "text/x-python",
   "name": "python",
   "nbconvert_exporter": "python",
   "pygments_lexer": "ipython3",
   "version": "3.13.7"
  }
 },
 "nbformat": 4,
 "nbformat_minor": 4
}
